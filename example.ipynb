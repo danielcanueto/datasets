{
 "cells": [
  {
   "cell_type": "code",
   "execution_count": 15,
   "metadata": {
    "collapsed": true
   },
   "outputs": [],
   "source": [
    "## Comparison between water Temperature and Chlorophyll-a"
   ]
  },
  {
   "cell_type": "code",
   "execution_count": 16,
   "metadata": {
    "collapsed": true
   },
   "outputs": [],
   "source": [
    "# First, we install and load the necessary packages."
   ]
  },
  {
   "cell_type": "code",
   "execution_count": 17,
   "metadata": {
    "scrolled": true
   },
   "outputs": [
    {
     "name": "stderr",
     "output_type": "stream",
     "text": [
      "Installing packages into 'C:/Users/Whabtech/Documents/R/win-library/3.4'\n",
      "(as 'lib' is unspecified)\n"
     ]
    },
    {
     "ename": "ERROR",
     "evalue": "Error in contrib.url(repos, \"source\"): trying to use CRAN without setting a mirror\n",
     "output_type": "error",
     "traceback": [
      "Error in contrib.url(repos, \"source\"): trying to use CRAN without setting a mirror\nTraceback:\n",
      "1. install.packages(c(\"dplyr\", \"raster\", \"sdmpredictors\"))",
      "2. contrib.url(repos, \"source\")",
      "3. stop(\"trying to use CRAN without setting a mirror\")"
     ]
    }
   ],
   "source": [
    "install.packages(c(\"dplyr\",\"raster\",\"sdmpredictors\"))"
   ]
  },
  {
   "cell_type": "code",
   "execution_count": null,
   "metadata": {
    "scrolled": true
   },
   "outputs": [],
   "source": [
    "library(dplyr)\n",
    "library(raster)\n",
    "library(sdmpredictors)"
   ]
  },
  {
   "cell_type": "code",
   "execution_count": null,
   "metadata": {
    "collapsed": true
   },
   "outputs": [],
   "source": [
    "#Then, we load worldwide maps of mean temperature and chlorofill concentration at sea surface"
   ]
  },
  {
   "cell_type": "code",
   "execution_count": null,
   "metadata": {},
   "outputs": [],
   "source": [
    "temp_r <- sdmpredictors::load_layers(\"BO2_tempmean_ss\") \n",
    "chl_r <- sdmpredictors::load_layers(\"BO2_chlomean_ss\")"
   ]
  },
  {
   "cell_type": "code",
   "execution_count": null,
   "metadata": {
    "collapsed": true
   },
   "outputs": [],
   "source": [
    "#For each one of both maps, we select a small part of the worldwide map and we reduce the resolution to ease analysis"
   ]
  },
  {
   "cell_type": "code",
   "execution_count": null,
   "metadata": {
    "collapsed": true
   },
   "outputs": [],
   "source": [
    "temp_crop_r <- raster::crop(temp_r,extent(-5,5,40,50))%>%  aggregate(2)\n",
    "chl_res_r <- raster::crop(chl_r,extent(-5,5,40,50))%>%  aggregate(2) "
   ]
  },
  {
   "cell_type": "code",
   "execution_count": null,
   "metadata": {
    "collapsed": true
   },
   "outputs": [],
   "source": [
    "#Now, we plot both resulting maps to compare their patterns."
   ]
  },
  {
   "cell_type": "code",
   "execution_count": null,
   "metadata": {},
   "outputs": [],
   "source": [
    "par(mfrow=c(1,2))\n",
    "plot(temp_crop_r[[1]], main='Sea surface temperature (mean)')\n",
    "# rect(0,40.2,2,41.7,border='red')\n",
    "rect(-3,46.5,-1.5,47.5,border='red')\n",
    "rect(-2,44,-0,46,border='red')\n",
    "rect(-4,48,-0.5,49.8,border='red')\n",
    "\n",
    "plot(chl_res_r[[1]],main='Chlorophyll concentration (mean)')\n",
    "# rect(0,40.2,2,41.7,border='red')\n",
    "rect(-3,46.5,-1.5,47.5,border='red')\n",
    "rect(-2,44,-0,46,border='red')\n",
    "rect(-4,48,-0.5,49.8,border='red')"
   ]
  },
  {
   "cell_type": "code",
   "execution_count": null,
   "metadata": {
    "collapsed": true
   },
   "outputs": [],
   "source": [
    " #Red rectangles mark interesting regions were patterns like correlated increase/decrease or inverse correaltions seem to appear. This kind of effects can be related to different kind of algae present at sea ."
   ]
  },
  {
   "cell_type": "code",
   "execution_count": null,
   "metadata": {
    "collapsed": true
   },
   "outputs": [],
   "source": [
    "#Now, we analyze the local correlation between both maps and perform correlation tests to see regions with significant positive or negative correlation between both maps."
   ]
  },
  {
   "cell_type": "code",
   "execution_count": null,
   "metadata": {
    "collapsed": true
   },
   "outputs": [],
   "source": [
    "cor_result <- raster::corLocal(temp_crop_r, chl_res_r, test=TRUE )"
   ]
  },
  {
   "cell_type": "code",
   "execution_count": null,
   "metadata": {
    "collapsed": true
   },
   "outputs": [],
   "source": [
    "#Last, we analyze the results."
   ]
  },
  {
   "cell_type": "code",
   "execution_count": null,
   "metadata": {},
   "outputs": [],
   "source": [
    "par(mfrow=c(1,2))\n",
    "plot(cor_result[[1]],main=\"Local correlation coefficient\")\n",
    "# rect(0,40.2,2,41.7,border='red')\n",
    "rect(-3,46.5,-1.5,47.5,border='red')\n",
    "rect(-2,44,-0,46,border='red')\n",
    "rect(-4,48,-0.5,49.8,border='red')\n",
    "plot(cor_result[[2]],main=\"Local correlation test - p-value\")\n",
    "# rect(0,40.2,2,41.7,border='red')\n",
    "rect(-3,46.5,-1.5,47.5,border='red')\n",
    "rect(-2,44,-0,46,border='red')\n",
    "rect(-4,48,-0.5,49.8,border='red')"
   ]
  }
 ],
 "metadata": {
  "kernelspec": {
   "display_name": "R",
   "language": "R",
   "name": "ir"
  },
  "language_info": {
   "codemirror_mode": "r",
   "file_extension": ".r",
   "mimetype": "text/x-r-source",
   "name": "R",
   "pygments_lexer": "r",
   "version": "3.4.3"
  }
 },
 "nbformat": 4,
 "nbformat_minor": 2
}
